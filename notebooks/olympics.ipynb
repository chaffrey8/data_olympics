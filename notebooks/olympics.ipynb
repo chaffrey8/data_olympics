{
 "cells": [
  {
   "cell_type": "markdown",
   "id": "e1cf1a76",
   "metadata": {},
   "source": [
    "# Carga de librerías"
   ]
  },
  {
   "cell_type": "code",
   "execution_count": 1,
   "id": "79eb285f",
   "metadata": {},
   "outputs": [],
   "source": [
    "from datetime import datetime\n",
    "import pandas as pd\n",
    "import numpy as np\n",
    "import gc"
   ]
  },
  {
   "cell_type": "code",
   "execution_count": 2,
   "id": "6bea29e6",
   "metadata": {},
   "outputs": [
    {
     "name": "stderr",
     "output_type": "stream",
     "text": [
      "/Users/MI31539/anaconda3/envs/data_olympics/lib/python3.11/site-packages/tqdm/auto.py:21: TqdmWarning: IProgress not found. Please update jupyter and ipywidgets. See https://ipywidgets.readthedocs.io/en/stable/user_install.html\n",
      "  from .autonotebook import tqdm as notebook_tqdm\n"
     ]
    }
   ],
   "source": [
    "from olympics.google_service.client import GoogleClient\n",
    "from olympics.modelling.dataset import WFMDataset\n",
    "import olympics.modelling.outlier_detection as OutlierDetection\n",
    "import olympics.modelling.imputation as Imputation\n",
    "import olympics.modelling.modeling as Modelling\n",
    "import olympics.modelling.feature_engineering as Engineering"
   ]
  },
  {
   "cell_type": "markdown",
   "id": "fa4ddffc",
   "metadata": {},
   "source": [
    "# Leer base de datos"
   ]
  },
  {
   "cell_type": "code",
   "execution_count": 3,
   "id": "41cfa5fd",
   "metadata": {},
   "outputs": [],
   "source": [
    "df = pd.read_excel(\n",
    "    io='/Users/MI31539/Desktop/data_olympics/csv/Data - Data Olympics Concurso Finanzas.xlsx',\n",
    "    sheet_name='DATOS CONCURSO'\n",
    ")"
   ]
  },
  {
   "cell_type": "code",
   "execution_count": 4,
   "id": "8c6ad573",
   "metadata": {},
   "outputs": [
    {
     "data": {
      "text/html": [
       "<div>\n",
       "<style scoped>\n",
       "    .dataframe tbody tr th:only-of-type {\n",
       "        vertical-align: middle;\n",
       "    }\n",
       "\n",
       "    .dataframe tbody tr th {\n",
       "        vertical-align: top;\n",
       "    }\n",
       "\n",
       "    .dataframe thead th {\n",
       "        text-align: right;\n",
       "    }\n",
       "</style>\n",
       "<table border=\"1\" class=\"dataframe\">\n",
       "  <thead>\n",
       "    <tr style=\"text-align: right;\">\n",
       "      <th></th>\n",
       "      <th>fecha</th>\n",
       "      <th>cetes_12m</th>\n",
       "      <th>cetes_1m</th>\n",
       "      <th>cetes_3m</th>\n",
       "      <th>cetes_6m</th>\n",
       "      <th>exchange_rate_usd</th>\n",
       "      <th>exportaciones_no_petroleras</th>\n",
       "      <th>imss</th>\n",
       "      <th>inpc</th>\n",
       "      <th>official_interest_rate_usa</th>\n",
       "      <th>...</th>\n",
       "      <th>treasury_10y</th>\n",
       "      <th>treasury_1m</th>\n",
       "      <th>treasury_1y</th>\n",
       "      <th>treasury_3m</th>\n",
       "      <th>treasury_3y</th>\n",
       "      <th>treasury_5y</th>\n",
       "      <th>treasury_6m</th>\n",
       "      <th>vix</th>\n",
       "      <th>vix_bmv</th>\n",
       "      <th>corporativa_mn</th>\n",
       "    </tr>\n",
       "  </thead>\n",
       "  <tbody>\n",
       "    <tr>\n",
       "      <th>0</th>\n",
       "      <td>2007-01-01</td>\n",
       "      <td>5.998714</td>\n",
       "      <td>5.270554</td>\n",
       "      <td>7.619891</td>\n",
       "      <td>9.538785</td>\n",
       "      <td>16.626715</td>\n",
       "      <td>65523.200303</td>\n",
       "      <td>1.492044e+07</td>\n",
       "      <td>57.490374</td>\n",
       "      <td>1.385472</td>\n",
       "      <td>...</td>\n",
       "      <td>4.601301</td>\n",
       "      <td>4.511093</td>\n",
       "      <td>1.371252</td>\n",
       "      <td>3.797369</td>\n",
       "      <td>1.081369</td>\n",
       "      <td>6.241602</td>\n",
       "      <td>1.704889</td>\n",
       "      <td>7.659628</td>\n",
       "      <td>21.931550</td>\n",
       "      <td>36435.716117</td>\n",
       "    </tr>\n",
       "    <tr>\n",
       "      <th>1</th>\n",
       "      <td>2007-02-01</td>\n",
       "      <td>5.998714</td>\n",
       "      <td>5.270554</td>\n",
       "      <td>7.619891</td>\n",
       "      <td>9.538785</td>\n",
       "      <td>16.626715</td>\n",
       "      <td>65523.200303</td>\n",
       "      <td>1.492044e+07</td>\n",
       "      <td>57.490374</td>\n",
       "      <td>1.385472</td>\n",
       "      <td>...</td>\n",
       "      <td>4.601301</td>\n",
       "      <td>4.622545</td>\n",
       "      <td>1.371252</td>\n",
       "      <td>3.797369</td>\n",
       "      <td>1.081369</td>\n",
       "      <td>6.241602</td>\n",
       "      <td>1.704889</td>\n",
       "      <td>7.659628</td>\n",
       "      <td>20.456388</td>\n",
       "      <td>36435.716117</td>\n",
       "    </tr>\n",
       "    <tr>\n",
       "      <th>2</th>\n",
       "      <td>2007-03-01</td>\n",
       "      <td>7.483663</td>\n",
       "      <td>5.270554</td>\n",
       "      <td>7.619891</td>\n",
       "      <td>9.538785</td>\n",
       "      <td>16.626715</td>\n",
       "      <td>65523.200303</td>\n",
       "      <td>1.492044e+07</td>\n",
       "      <td>57.490374</td>\n",
       "      <td>1.385472</td>\n",
       "      <td>...</td>\n",
       "      <td>4.601301</td>\n",
       "      <td>4.694684</td>\n",
       "      <td>1.371252</td>\n",
       "      <td>4.805535</td>\n",
       "      <td>1.081369</td>\n",
       "      <td>6.241602</td>\n",
       "      <td>1.704889</td>\n",
       "      <td>12.211318</td>\n",
       "      <td>22.318382</td>\n",
       "      <td>36435.716117</td>\n",
       "    </tr>\n",
       "    <tr>\n",
       "      <th>3</th>\n",
       "      <td>2007-04-01</td>\n",
       "      <td>8.106428</td>\n",
       "      <td>5.270554</td>\n",
       "      <td>7.619891</td>\n",
       "      <td>9.538785</td>\n",
       "      <td>16.626715</td>\n",
       "      <td>65523.200303</td>\n",
       "      <td>1.492044e+07</td>\n",
       "      <td>57.490374</td>\n",
       "      <td>1.385472</td>\n",
       "      <td>...</td>\n",
       "      <td>4.601301</td>\n",
       "      <td>5.155397</td>\n",
       "      <td>1.371252</td>\n",
       "      <td>4.917340</td>\n",
       "      <td>1.081369</td>\n",
       "      <td>6.241602</td>\n",
       "      <td>1.704889</td>\n",
       "      <td>14.623812</td>\n",
       "      <td>22.722563</td>\n",
       "      <td>36435.716117</td>\n",
       "    </tr>\n",
       "    <tr>\n",
       "      <th>4</th>\n",
       "      <td>2007-05-01</td>\n",
       "      <td>8.232189</td>\n",
       "      <td>5.270554</td>\n",
       "      <td>7.619891</td>\n",
       "      <td>9.538785</td>\n",
       "      <td>16.626715</td>\n",
       "      <td>65523.200303</td>\n",
       "      <td>1.492044e+07</td>\n",
       "      <td>57.490374</td>\n",
       "      <td>1.385472</td>\n",
       "      <td>...</td>\n",
       "      <td>4.601301</td>\n",
       "      <td>5.076232</td>\n",
       "      <td>1.371252</td>\n",
       "      <td>4.885224</td>\n",
       "      <td>1.081369</td>\n",
       "      <td>6.241602</td>\n",
       "      <td>1.704889</td>\n",
       "      <td>14.856131</td>\n",
       "      <td>22.418558</td>\n",
       "      <td>36435.716117</td>\n",
       "    </tr>\n",
       "  </tbody>\n",
       "</table>\n",
       "<p>5 rows × 28 columns</p>\n",
       "</div>"
      ],
      "text/plain": [
       "       fecha  cetes_12m  cetes_1m  cetes_3m  cetes_6m  exchange_rate_usd  \\\n",
       "0 2007-01-01   5.998714  5.270554  7.619891  9.538785          16.626715   \n",
       "1 2007-02-01   5.998714  5.270554  7.619891  9.538785          16.626715   \n",
       "2 2007-03-01   7.483663  5.270554  7.619891  9.538785          16.626715   \n",
       "3 2007-04-01   8.106428  5.270554  7.619891  9.538785          16.626715   \n",
       "4 2007-05-01   8.232189  5.270554  7.619891  9.538785          16.626715   \n",
       "\n",
       "   exportaciones_no_petroleras          imss       inpc  \\\n",
       "0                 65523.200303  1.492044e+07  57.490374   \n",
       "1                 65523.200303  1.492044e+07  57.490374   \n",
       "2                 65523.200303  1.492044e+07  57.490374   \n",
       "3                 65523.200303  1.492044e+07  57.490374   \n",
       "4                 65523.200303  1.492044e+07  57.490374   \n",
       "\n",
       "   official_interest_rate_usa  ...  treasury_10y  treasury_1m  treasury_1y  \\\n",
       "0                    1.385472  ...      4.601301     4.511093     1.371252   \n",
       "1                    1.385472  ...      4.601301     4.622545     1.371252   \n",
       "2                    1.385472  ...      4.601301     4.694684     1.371252   \n",
       "3                    1.385472  ...      4.601301     5.155397     1.371252   \n",
       "4                    1.385472  ...      4.601301     5.076232     1.371252   \n",
       "\n",
       "   treasury_3m  treasury_3y  treasury_5y  treasury_6m        vix    vix_bmv  \\\n",
       "0     3.797369     1.081369     6.241602     1.704889   7.659628  21.931550   \n",
       "1     3.797369     1.081369     6.241602     1.704889   7.659628  20.456388   \n",
       "2     4.805535     1.081369     6.241602     1.704889  12.211318  22.318382   \n",
       "3     4.917340     1.081369     6.241602     1.704889  14.623812  22.722563   \n",
       "4     4.885224     1.081369     6.241602     1.704889  14.856131  22.418558   \n",
       "\n",
       "   corporativa_mn  \n",
       "0    36435.716117  \n",
       "1    36435.716117  \n",
       "2    36435.716117  \n",
       "3    36435.716117  \n",
       "4    36435.716117  \n",
       "\n",
       "[5 rows x 28 columns]"
      ]
     },
     "execution_count": 4,
     "metadata": {},
     "output_type": "execute_result"
    }
   ],
   "source": [
    "df.head()"
   ]
  },
  {
   "cell_type": "code",
   "execution_count": 5,
   "id": "d673a198",
   "metadata": {},
   "outputs": [
    {
     "data": {
      "text/plain": [
       "Index(['fecha', 'cetes_12m', 'cetes_1m', 'cetes_3m', 'cetes_6m',\n",
       "       'exchange_rate_usd', 'exportaciones_no_petroleras', 'imss', 'inpc',\n",
       "       'official_interest_rate_usa', 'pib', 's&p500', 'sovereign_10y',\n",
       "       'sovereign_3y', 'sovereign_5y', 'stock_market', 'tasa_desempleo',\n",
       "       'tasa_fondeo_1d', 'treasury_10y', 'treasury_1m', 'treasury_1y',\n",
       "       'treasury_3m', 'treasury_3y', 'treasury_5y', 'treasury_6m', 'vix',\n",
       "       'vix_bmv', 'corporativa_mn'],\n",
       "      dtype='object')"
      ]
     },
     "execution_count": 5,
     "metadata": {},
     "output_type": "execute_result"
    }
   ],
   "source": [
    "df.columns"
   ]
  },
  {
   "cell_type": "code",
   "execution_count": 6,
   "id": "bc53fc20",
   "metadata": {},
   "outputs": [
    {
     "data": {
      "text/plain": [
       "(208, 28)"
      ]
     },
     "execution_count": 6,
     "metadata": {},
     "output_type": "execute_result"
    }
   ],
   "source": [
    "df.shape"
   ]
  },
  {
   "cell_type": "code",
   "execution_count": 7,
   "id": "2798b93a",
   "metadata": {},
   "outputs": [
    {
     "data": {
      "text/plain": [
       "fecha                          datetime64[ns]\n",
       "cetes_12m                             float64\n",
       "cetes_1m                              float64\n",
       "cetes_3m                              float64\n",
       "cetes_6m                              float64\n",
       "exchange_rate_usd                     float64\n",
       "exportaciones_no_petroleras           float64\n",
       "imss                                  float64\n",
       "inpc                                  float64\n",
       "official_interest_rate_usa            float64\n",
       "pib                                   float64\n",
       "s&p500                                float64\n",
       "sovereign_10y                         float64\n",
       "sovereign_3y                          float64\n",
       "sovereign_5y                          float64\n",
       "stock_market                          float64\n",
       "tasa_desempleo                        float64\n",
       "tasa_fondeo_1d                        float64\n",
       "treasury_10y                          float64\n",
       "treasury_1m                           float64\n",
       "treasury_1y                           float64\n",
       "treasury_3m                           float64\n",
       "treasury_3y                           float64\n",
       "treasury_5y                           float64\n",
       "treasury_6m                           float64\n",
       "vix                                   float64\n",
       "vix_bmv                               float64\n",
       "corporativa_mn                        float64\n",
       "dtype: object"
      ]
     },
     "execution_count": 7,
     "metadata": {},
     "output_type": "execute_result"
    }
   ],
   "source": [
    "df.dtypes"
   ]
  },
  {
   "cell_type": "markdown",
   "id": "3dc93e29",
   "metadata": {},
   "source": [
    "# Feature Engineering"
   ]
  },
  {
   "cell_type": "code",
   "execution_count": 8,
   "id": "e3a1301a",
   "metadata": {},
   "outputs": [],
   "source": [
    "def add_lags(df, col, lags):\n",
    "    for lag in lags:\n",
    "        df[f\"{col}_lag{lag}\"] = df[col].shift(lag)\n",
    "    return df\n",
    "\n",
    "def add_rolling_features(df, col, windows=[3, 6]):\n",
    "    for win in windows:\n",
    "        df[f\"{col}rollmean{win}\"] = df[col].rolling(win).mean()\n",
    "        df[f\"{col}diff{win}\"] = df[col].diff(win)\n",
    "    return df"
   ]
  },
  {
   "cell_type": "code",
   "execution_count": 10,
   "id": "bb85aea3",
   "metadata": {},
   "outputs": [],
   "source": [
    "def engineering(df):\n",
    "    original = [x for x in df.columns[:-1]]\n",
    "    target = [df.columns[-1]]\n",
    "    df = add_rolling_features(df, 'corporativa_mn', [3, 6])\n",
    "    df = add_lags(df, 'corporativa_mn', [3])\n",
    "    df = add_lags(df, 'treasury_5y', [1])\n",
    "    df = add_lags(df, 'cetes_1m', [1, 2])\n",
    "    df = add_lags(df, 'imss', [2])\n",
    "    new = [\n",
    "        'corporativa_mnrollmean3', 'corporativa_mndiff3',\n",
    "        'corporativa_mnrollmean6', 'corporativa_mndiff6',\n",
    "        'corporativa_mn_lag3', 'treasury_5y_lag1', 'cetes_1m_lag1',\n",
    "        'cetes_1m_lag2'\n",
    "    ]\n",
    "    order = original + new + target\n",
    "    return df[order]"
   ]
  },
  {
   "cell_type": "code",
   "execution_count": 11,
   "id": "ef39fc43",
   "metadata": {},
   "outputs": [],
   "source": [
    "df = engineering(df)"
   ]
  },
  {
   "cell_type": "code",
   "execution_count": 12,
   "id": "589a2243",
   "metadata": {},
   "outputs": [
    {
     "data": {
      "text/plain": [
       "fecha                           0\n",
       "cetes_12m                       0\n",
       "cetes_1m                        0\n",
       "cetes_3m                        0\n",
       "cetes_6m                        0\n",
       "exchange_rate_usd               0\n",
       "exportaciones_no_petroleras     0\n",
       "imss                            0\n",
       "inpc                            0\n",
       "official_interest_rate_usa      0\n",
       "pib                             0\n",
       "s&p500                          0\n",
       "sovereign_10y                   0\n",
       "sovereign_3y                    0\n",
       "sovereign_5y                    0\n",
       "stock_market                    0\n",
       "tasa_desempleo                  0\n",
       "tasa_fondeo_1d                  0\n",
       "treasury_10y                    0\n",
       "treasury_1m                     0\n",
       "treasury_1y                     0\n",
       "treasury_3m                     0\n",
       "treasury_3y                     0\n",
       "treasury_5y                     0\n",
       "treasury_6m                     0\n",
       "vix                             0\n",
       "vix_bmv                         0\n",
       "corporativa_mnrollmean3        26\n",
       "corporativa_mndiff3            27\n",
       "corporativa_mnrollmean6        29\n",
       "corporativa_mndiff6            30\n",
       "corporativa_mn_lag3            24\n",
       "treasury_5y_lag1                1\n",
       "cetes_1m_lag1                   1\n",
       "cetes_1m_lag2                   2\n",
       "corporativa_mn                 24\n",
       "dtype: int64"
      ]
     },
     "execution_count": 12,
     "metadata": {},
     "output_type": "execute_result"
    }
   ],
   "source": [
    "df.isna().sum()"
   ]
  },
  {
   "cell_type": "markdown",
   "id": "90cfe38a",
   "metadata": {},
   "source": [
    "# Data train_test_split"
   ]
  },
  {
   "cell_type": "code",
   "execution_count": 13,
   "id": "46216b6b",
   "metadata": {},
   "outputs": [],
   "source": [
    "train_ix = 172\n",
    "test_ix = 184"
   ]
  },
  {
   "cell_type": "code",
   "execution_count": 14,
   "id": "c584cd1b",
   "metadata": {},
   "outputs": [],
   "source": [
    "X_train = df.iloc[:train_ix,:-1]\n",
    "y_train = df.iloc[:train_ix,-1]\n",
    "X_valid = df.iloc[train_ix:test_ix,:-1]\n",
    "y_valid = df.iloc[train_ix:test_ix,-1]\n",
    "X_test = df.iloc[test_ix:,:-1]\n",
    "y_test = df.iloc[test_ix:,-1]"
   ]
  },
  {
   "cell_type": "markdown",
   "id": "2fec62a2",
   "metadata": {},
   "source": [
    "# Outliers"
   ]
  },
  {
   "cell_type": "code",
   "execution_count": 15,
   "id": "d3e898b0",
   "metadata": {},
   "outputs": [],
   "source": [
    "detection_factories = {\n",
    "    col: OutlierDetection.MADFactory()\n",
    "    for col in X_train.columns[1:]\n",
    "}\n",
    "detection_client = OutlierDetection.OutlierDetectionClient(column_factory_map=detection_factories, remainder='passthrough')\n",
    "detection_client.fit(X_train)"
   ]
  },
  {
   "cell_type": "code",
   "execution_count": 16,
   "id": "f08741cd",
   "metadata": {},
   "outputs": [
    {
     "data": {
      "text/plain": [
       "cetes_12m                       0\n",
       "cetes_1m                        0\n",
       "cetes_3m                        0\n",
       "cetes_6m                        0\n",
       "exchange_rate_usd               0\n",
       "exportaciones_no_petroleras     0\n",
       "imss                            0\n",
       "inpc                            0\n",
       "official_interest_rate_usa      0\n",
       "pib                             0\n",
       "s&p500                          0\n",
       "sovereign_10y                   0\n",
       "sovereign_3y                    0\n",
       "sovereign_5y                    0\n",
       "stock_market                    0\n",
       "tasa_desempleo                  0\n",
       "tasa_fondeo_1d                  0\n",
       "treasury_10y                    0\n",
       "treasury_1m                     3\n",
       "treasury_1y                     0\n",
       "treasury_3m                     5\n",
       "treasury_3y                     3\n",
       "treasury_5y                    16\n",
       "treasury_6m                     0\n",
       "vix                             0\n",
       "vix_bmv                         0\n",
       "corporativa_mnrollmean3         0\n",
       "corporativa_mndiff3             1\n",
       "corporativa_mnrollmean6         0\n",
       "corporativa_mndiff6             0\n",
       "corporativa_mn_lag3             0\n",
       "treasury_5y_lag1               16\n",
       "cetes_1m_lag1                   0\n",
       "cetes_1m_lag2                   0\n",
       "dtype: int64"
      ]
     },
     "execution_count": 16,
     "metadata": {},
     "output_type": "execute_result"
    }
   ],
   "source": [
    "train_outliers = detection_client.detect(X_train)\n",
    "train_outliers.sum()"
   ]
  },
  {
   "cell_type": "code",
   "execution_count": 17,
   "id": "37369412",
   "metadata": {},
   "outputs": [
    {
     "data": {
      "text/plain": [
       "cetes_12m                      0\n",
       "cetes_1m                       0\n",
       "cetes_3m                       0\n",
       "cetes_6m                       0\n",
       "exchange_rate_usd              0\n",
       "exportaciones_no_petroleras    0\n",
       "imss                           0\n",
       "inpc                           0\n",
       "official_interest_rate_usa     0\n",
       "pib                            0\n",
       "s&p500                         0\n",
       "sovereign_10y                  0\n",
       "sovereign_3y                   0\n",
       "sovereign_5y                   0\n",
       "stock_market                   0\n",
       "tasa_desempleo                 0\n",
       "tasa_fondeo_1d                 0\n",
       "treasury_10y                   0\n",
       "treasury_1m                    0\n",
       "treasury_1y                    0\n",
       "treasury_3m                    0\n",
       "treasury_3y                    0\n",
       "treasury_5y                    3\n",
       "treasury_6m                    0\n",
       "vix                            0\n",
       "vix_bmv                        0\n",
       "corporativa_mnrollmean3        0\n",
       "corporativa_mndiff3            0\n",
       "corporativa_mnrollmean6        0\n",
       "corporativa_mndiff6            0\n",
       "corporativa_mn_lag3            0\n",
       "treasury_5y_lag1               3\n",
       "cetes_1m_lag1                  0\n",
       "cetes_1m_lag2                  0\n",
       "dtype: int64"
      ]
     },
     "execution_count": 17,
     "metadata": {},
     "output_type": "execute_result"
    }
   ],
   "source": [
    "valid_outliers = detection_client.detect(X_valid)\n",
    "valid_outliers.sum()"
   ]
  },
  {
   "cell_type": "code",
   "execution_count": 18,
   "id": "7f31fc7c",
   "metadata": {},
   "outputs": [
    {
     "data": {
      "text/plain": [
       "cetes_12m                       0\n",
       "cetes_1m                       15\n",
       "cetes_3m                        0\n",
       "cetes_6m                        0\n",
       "exchange_rate_usd               0\n",
       "exportaciones_no_petroleras     0\n",
       "imss                            0\n",
       "inpc                            0\n",
       "official_interest_rate_usa      0\n",
       "pib                             0\n",
       "s&p500                          0\n",
       "sovereign_10y                   0\n",
       "sovereign_3y                    8\n",
       "sovereign_5y                    0\n",
       "stock_market                    0\n",
       "tasa_desempleo                  0\n",
       "tasa_fondeo_1d                  0\n",
       "treasury_10y                    0\n",
       "treasury_1m                     3\n",
       "treasury_1y                    15\n",
       "treasury_3m                     1\n",
       "treasury_3y                    16\n",
       "treasury_5y                    14\n",
       "treasury_6m                    12\n",
       "vix                             0\n",
       "vix_bmv                         0\n",
       "corporativa_mnrollmean3         0\n",
       "corporativa_mndiff3             0\n",
       "corporativa_mnrollmean6         0\n",
       "corporativa_mndiff6             0\n",
       "corporativa_mn_lag3             0\n",
       "treasury_5y_lag1               13\n",
       "cetes_1m_lag1                  14\n",
       "cetes_1m_lag2                  13\n",
       "dtype: int64"
      ]
     },
     "execution_count": 18,
     "metadata": {},
     "output_type": "execute_result"
    }
   ],
   "source": [
    "test_outliers = detection_client.detect(X_test)\n",
    "test_outliers.sum()"
   ]
  },
  {
   "cell_type": "code",
   "execution_count": 19,
   "id": "11d87452",
   "metadata": {},
   "outputs": [],
   "source": [
    "X_train = detection_client.transform(X_train)\n",
    "X_valid = detection_client.transform(X_valid)\n",
    "X_test = detection_client.transform(X_test)"
   ]
  },
  {
   "cell_type": "markdown",
   "id": "956bac91",
   "metadata": {},
   "source": [
    "# Datos faltantes"
   ]
  },
  {
   "cell_type": "code",
   "execution_count": 20,
   "id": "ad999c60",
   "metadata": {},
   "outputs": [
    {
     "data": {
      "text/plain": [
       "fecha                           0\n",
       "cetes_12m                       0\n",
       "cetes_1m                        0\n",
       "cetes_3m                        0\n",
       "cetes_6m                        0\n",
       "exchange_rate_usd               0\n",
       "exportaciones_no_petroleras     0\n",
       "imss                            0\n",
       "inpc                            0\n",
       "official_interest_rate_usa      0\n",
       "pib                             0\n",
       "s&p500                          0\n",
       "sovereign_10y                   0\n",
       "sovereign_3y                    0\n",
       "sovereign_5y                    0\n",
       "stock_market                    0\n",
       "tasa_desempleo                  0\n",
       "tasa_fondeo_1d                  0\n",
       "treasury_10y                    0\n",
       "treasury_1m                     3\n",
       "treasury_1y                     0\n",
       "treasury_3m                     5\n",
       "treasury_3y                     3\n",
       "treasury_5y                    16\n",
       "treasury_6m                     0\n",
       "vix                             0\n",
       "vix_bmv                         0\n",
       "corporativa_mnrollmean3         2\n",
       "corporativa_mndiff3             4\n",
       "corporativa_mnrollmean6         5\n",
       "corporativa_mndiff6             6\n",
       "corporativa_mn_lag3             3\n",
       "treasury_5y_lag1               17\n",
       "cetes_1m_lag1                   1\n",
       "cetes_1m_lag2                   2\n",
       "dtype: int64"
      ]
     },
     "execution_count": 20,
     "metadata": {},
     "output_type": "execute_result"
    }
   ],
   "source": [
    "X_train.isna().sum()"
   ]
  },
  {
   "cell_type": "code",
   "execution_count": 21,
   "id": "35a313ef",
   "metadata": {},
   "outputs": [],
   "source": [
    "imputation_cliente = Imputation.ImputationClient()\n",
    "imputation_cliente.fit(X_train)"
   ]
  },
  {
   "cell_type": "code",
   "execution_count": 22,
   "id": "1420ada9",
   "metadata": {},
   "outputs": [],
   "source": [
    "X_train = imputation_cliente.transform(X_train)\n",
    "X_valid = imputation_cliente.transform(X_valid)\n",
    "X_test = imputation_cliente.transform(X_test)"
   ]
  },
  {
   "cell_type": "code",
   "execution_count": 23,
   "id": "16a89637",
   "metadata": {},
   "outputs": [
    {
     "data": {
      "text/plain": [
       "fecha                          0\n",
       "cetes_12m                      0\n",
       "cetes_1m                       0\n",
       "cetes_3m                       0\n",
       "cetes_6m                       0\n",
       "exchange_rate_usd              0\n",
       "exportaciones_no_petroleras    0\n",
       "imss                           0\n",
       "inpc                           0\n",
       "official_interest_rate_usa     0\n",
       "pib                            0\n",
       "s&p500                         0\n",
       "sovereign_10y                  0\n",
       "sovereign_3y                   0\n",
       "sovereign_5y                   0\n",
       "stock_market                   0\n",
       "tasa_desempleo                 0\n",
       "tasa_fondeo_1d                 0\n",
       "treasury_10y                   0\n",
       "treasury_1m                    0\n",
       "treasury_1y                    0\n",
       "treasury_3m                    0\n",
       "treasury_3y                    0\n",
       "treasury_5y                    0\n",
       "treasury_6m                    0\n",
       "vix                            0\n",
       "vix_bmv                        0\n",
       "corporativa_mnrollmean3        0\n",
       "corporativa_mndiff3            0\n",
       "corporativa_mnrollmean6        0\n",
       "corporativa_mndiff6            0\n",
       "corporativa_mn_lag3            0\n",
       "treasury_5y_lag1               0\n",
       "cetes_1m_lag1                  0\n",
       "cetes_1m_lag2                  0\n",
       "dtype: int64"
      ]
     },
     "execution_count": 23,
     "metadata": {},
     "output_type": "execute_result"
    }
   ],
   "source": [
    "X_train.isna().sum()"
   ]
  },
  {
   "cell_type": "code",
   "execution_count": 24,
   "id": "fe72881a",
   "metadata": {},
   "outputs": [
    {
     "data": {
      "text/plain": [
       "fecha                          0\n",
       "cetes_12m                      0\n",
       "cetes_1m                       0\n",
       "cetes_3m                       0\n",
       "cetes_6m                       0\n",
       "exchange_rate_usd              0\n",
       "exportaciones_no_petroleras    0\n",
       "imss                           0\n",
       "inpc                           0\n",
       "official_interest_rate_usa     0\n",
       "pib                            0\n",
       "s&p500                         0\n",
       "sovereign_10y                  0\n",
       "sovereign_3y                   0\n",
       "sovereign_5y                   0\n",
       "stock_market                   0\n",
       "tasa_desempleo                 0\n",
       "tasa_fondeo_1d                 0\n",
       "treasury_10y                   0\n",
       "treasury_1m                    0\n",
       "treasury_1y                    0\n",
       "treasury_3m                    0\n",
       "treasury_3y                    0\n",
       "treasury_5y                    0\n",
       "treasury_6m                    0\n",
       "vix                            0\n",
       "vix_bmv                        0\n",
       "corporativa_mnrollmean3        0\n",
       "corporativa_mndiff3            0\n",
       "corporativa_mnrollmean6        0\n",
       "corporativa_mndiff6            0\n",
       "corporativa_mn_lag3            0\n",
       "treasury_5y_lag1               0\n",
       "cetes_1m_lag1                  0\n",
       "cetes_1m_lag2                  0\n",
       "dtype: int64"
      ]
     },
     "execution_count": 24,
     "metadata": {},
     "output_type": "execute_result"
    }
   ],
   "source": [
    "X_valid.isna().sum()"
   ]
  },
  {
   "cell_type": "code",
   "execution_count": 25,
   "id": "79d3c8b6",
   "metadata": {},
   "outputs": [
    {
     "data": {
      "text/plain": [
       "fecha                          0\n",
       "cetes_12m                      0\n",
       "cetes_1m                       0\n",
       "cetes_3m                       0\n",
       "cetes_6m                       0\n",
       "exchange_rate_usd              0\n",
       "exportaciones_no_petroleras    0\n",
       "imss                           0\n",
       "inpc                           0\n",
       "official_interest_rate_usa     0\n",
       "pib                            0\n",
       "s&p500                         0\n",
       "sovereign_10y                  0\n",
       "sovereign_3y                   0\n",
       "sovereign_5y                   0\n",
       "stock_market                   0\n",
       "tasa_desempleo                 0\n",
       "tasa_fondeo_1d                 0\n",
       "treasury_10y                   0\n",
       "treasury_1m                    0\n",
       "treasury_1y                    0\n",
       "treasury_3m                    0\n",
       "treasury_3y                    0\n",
       "treasury_5y                    0\n",
       "treasury_6m                    0\n",
       "vix                            0\n",
       "vix_bmv                        0\n",
       "corporativa_mnrollmean3        0\n",
       "corporativa_mndiff3            0\n",
       "corporativa_mnrollmean6        0\n",
       "corporativa_mndiff6            0\n",
       "corporativa_mn_lag3            0\n",
       "treasury_5y_lag1               0\n",
       "cetes_1m_lag1                  0\n",
       "cetes_1m_lag2                  0\n",
       "dtype: int64"
      ]
     },
     "execution_count": 25,
     "metadata": {},
     "output_type": "execute_result"
    }
   ],
   "source": [
    "X_test.isna().sum()"
   ]
  },
  {
   "cell_type": "markdown",
   "id": "8e38eedf",
   "metadata": {},
   "source": [
    "# Modelado"
   ]
  },
  {
   "cell_type": "code",
   "execution_count": 53,
   "id": "8bc47378",
   "metadata": {},
   "outputs": [],
   "source": [
    "feature_sets = [\n",
    "    [\n",
    "        \"cetes_1m\", \"treasury_6m\", \"cetes_3m\", \"sovereign_3y\",\n",
    "        \"cetes_6m\", \"cetes_12m\", \"tasa_fondeo_1d\", \"sovereign_5y\",\n",
    "        \"treasury_1m\", \"treasury_3m\", \"sovereign_10y\", \"treasury_3y\",\n",
    "        \"official_interest_rate_usa\", \"treasury_1y\"\n",
    "    ],\n",
    "    [\n",
    "        \"imss\", \"s&p500\", \"vix_bmv\", \"inpc\", \"exchange_rate_usd\",\n",
    "        \"tasa_desempleo\"\n",
    "    ],\n",
    "    [\n",
    "        \"treasury_10y\", \"treasury_5y\", \"vix\", \"stock_market\",\n",
    "        \"exportaciones_no_petroleras\"\n",
    "    ],\n",
    "    [\n",
    "        'corporativa_mnrollmean3', 'corporativa_mndiff3',\n",
    "        'corporativa_mnrollmean6', 'corporativa_mndiff6',\n",
    "        'corporativa_mn_lag3', 'treasury_5y_lag1', 'cetes_1m_lag1',\n",
    "        'cetes_1m_lag2'\n",
    "    ]\n",
    "]\n",
    "feature_sets = feature_sets[2:]"
   ]
  },
  {
   "cell_type": "code",
   "execution_count": 89,
   "id": "0ad008d4",
   "metadata": {},
   "outputs": [],
   "source": [
    "base_clients = [\n",
    "    Modelling.ModelClient(\n",
    "        'linearregression',\n",
    "        #n_estimators=150,\n",
    "        #max_depth=10,\n",
    "        #learning_rate=0.1,\n",
    "        #random_state=42\n",
    "    )\n",
    "    for _ in feature_sets\n",
    "]\n",
    "bases = list(zip(base_clients, feature_sets))"
   ]
  },
  {
   "cell_type": "code",
   "execution_count": 90,
   "id": "1287b658",
   "metadata": {},
   "outputs": [],
   "source": [
    "meta_client = Modelling.ModelClient('linearregression')\n",
    "ensemble_client = Modelling.ModelClient.create_ensemble_from_models(\n",
    "    meta_model=meta_client,\n",
    "    bases=bases\n",
    ")"
   ]
  },
  {
   "cell_type": "code",
   "execution_count": 91,
   "id": "f1533e7e",
   "metadata": {},
   "outputs": [
    {
     "data": {
      "text/plain": [
       "<olympics.modelling.modeling.ModelClient at 0x16c82efd0>"
      ]
     },
     "execution_count": 91,
     "metadata": {},
     "output_type": "execute_result"
    }
   ],
   "source": [
    "ensemble_client.fit(X_train, y_train)"
   ]
  },
  {
   "cell_type": "code",
   "execution_count": 92,
   "id": "2b2b4bf8",
   "metadata": {},
   "outputs": [],
   "source": [
    "y_pred = ensemble_client.predict(X_valid)"
   ]
  },
  {
   "cell_type": "code",
   "execution_count": 93,
   "id": "cfb3693a",
   "metadata": {},
   "outputs": [
    {
     "data": {
      "text/plain": [
       "array([151790.09822852, 143217.45813573, 148113.82268225, 147049.21197371,\n",
       "       145088.57974744, 138651.63556579, 131860.59685292, 126417.80984188,\n",
       "       133045.44948108, 137372.47841164, 137192.7914511 , 148848.3641298 ])"
      ]
     },
     "execution_count": 93,
     "metadata": {},
     "output_type": "execute_result"
    }
   ],
   "source": [
    "y_pred"
   ]
  },
  {
   "cell_type": "code",
   "execution_count": 94,
   "id": "d0677135",
   "metadata": {},
   "outputs": [
    {
     "data": {
      "text/plain": [
       "12"
      ]
     },
     "execution_count": 94,
     "metadata": {},
     "output_type": "execute_result"
    }
   ],
   "source": [
    "len(y_pred)"
   ]
  },
  {
   "cell_type": "code",
   "execution_count": 61,
   "id": "dc6a1144",
   "metadata": {},
   "outputs": [],
   "source": [
    "def mape(y_true, y_pred):\n",
    "    \"\"\"\n",
    "    Calcula el Mean Absolute Percentage Error (MAPE).\n",
    "\n",
    "    Parámetros\n",
    "    ----------\n",
    "    y_true : array-like de shape (n_samples,)\n",
    "        Valores reales.\n",
    "    y_pred : array-like de shape (n_samples,)\n",
    "        Valores predichos por el modelo.\n",
    "\n",
    "    Devuelve\n",
    "    -------\n",
    "    float\n",
    "        MAPE en porcentaje.\n",
    "    \"\"\"\n",
    "    y_true, y_pred = np.array(y_true), np.array(y_pred)\n",
    "    # Para evitar division por cero, añadimos un pequeño valor epsilon\n",
    "    epsilon = np.finfo(np.float64).eps\n",
    "    return np.mean(np.abs((y_true - y_pred) / np.maximum(np.abs(y_true), epsilon))) * 100"
   ]
  },
  {
   "cell_type": "code",
   "execution_count": 95,
   "id": "dbdbff35",
   "metadata": {},
   "outputs": [
    {
     "data": {
      "text/plain": [
       "np.float64(1.2715196923625853)"
      ]
     },
     "execution_count": 95,
     "metadata": {},
     "output_type": "execute_result"
    }
   ],
   "source": [
    "mape(y_valid,y_pred)"
   ]
  },
  {
   "cell_type": "code",
   "execution_count": 100,
   "id": "7935780e",
   "metadata": {},
   "outputs": [],
   "source": [
    "import plotly.express as px"
   ]
  },
  {
   "cell_type": "code",
   "execution_count": 101,
   "id": "4d609a08",
   "metadata": {},
   "outputs": [
    {
     "data": {
      "application/vnd.plotly.v1+json": {
       "config": {
        "plotlyServerURL": "https://plot.ly"
       },
       "data": [
        {
         "hovertemplate": "Serie=Real<br>Fecha=%{x}<br>corporativa_mn=%{y}<extra></extra>",
         "legendgroup": "Real",
         "line": {
          "color": "#636efa",
          "dash": "solid"
         },
         "marker": {
          "symbol": "circle"
         },
         "mode": "lines",
         "name": "Real",
         "orientation": "v",
         "showlegend": true,
         "type": "scatter",
         "x": [
          "2021-05-01T00:00:00.000000000",
          "2021-06-01T00:00:00.000000000",
          "2021-07-01T00:00:00.000000000",
          "2021-08-01T00:00:00.000000000",
          "2021-09-01T00:00:00.000000000",
          "2021-10-01T00:00:00.000000000",
          "2021-11-01T00:00:00.000000000",
          "2021-12-01T00:00:00.000000000",
          "2022-01-01T00:00:00.000000000",
          "2022-02-01T00:00:00.000000000",
          "2022-03-01T00:00:00.000000000",
          "2022-04-01T00:00:00.000000000"
         ],
         "xaxis": "x",
         "y": {
          "bdata": "2eduGYRBAkFCb7IgdmoBQaSS66LrBgJBZGN8kfGqAUG6TlNeBE0BQZVYANykrABBGDCIpQyH/0AIjik6QiT+QKhIn7HJFgBBw7pZro2eAEESAGCk8pAAQciLwanJIwJB",
          "dtype": "f8"
         },
         "yaxis": "y"
        },
        {
         "hovertemplate": "Serie=Predicho<br>Fecha=%{x}<br>corporativa_mn=%{y}<extra></extra>",
         "legendgroup": "Predicho",
         "line": {
          "color": "#EF553B",
          "dash": "solid"
         },
         "marker": {
          "symbol": "circle"
         },
         "mode": "lines",
         "name": "Predicho",
         "orientation": "v",
         "showlegend": true,
         "type": "scatter",
         "x": [
          "2021-05-01T00:00:00.000000000",
          "2021-06-01T00:00:00.000000000",
          "2021-07-01T00:00:00.000000000",
          "2021-08-01T00:00:00.000000000",
          "2021-09-01T00:00:00.000000000",
          "2021-10-01T00:00:00.000000000",
          "2021-11-01T00:00:00.000000000",
          "2021-12-01T00:00:00.000000000",
          "2022-01-01T00:00:00.000000000",
          "2022-02-01T00:00:00.000000000",
          "2022-03-01T00:00:00.000000000",
          "2022-04-01T00:00:00.000000000"
         ],
         "xaxis": "x",
         "y": {
          "bdata": "IAksyXCHAkFMEEOqi3sBQdZt2pSOFAJBUkYfsknzAUHcoFKjBLYBQYaEoxXd7ABButJaxqQYAEGHwxz1HN3+QIaJiZirPQBBuHrJ0+PEAEEOUORURr8AQQrivOmCKwJB",
          "dtype": "f8"
         },
         "yaxis": "y"
        }
       ],
       "layout": {
        "legend": {
         "title": {
          "text": "Serie"
         },
         "tracegroupgap": 0
        },
        "template": {
         "data": {
          "bar": [
           {
            "error_x": {
             "color": "#2a3f5f"
            },
            "error_y": {
             "color": "#2a3f5f"
            },
            "marker": {
             "line": {
              "color": "#E5ECF6",
              "width": 0.5
             },
             "pattern": {
              "fillmode": "overlay",
              "size": 10,
              "solidity": 0.2
             }
            },
            "type": "bar"
           }
          ],
          "barpolar": [
           {
            "marker": {
             "line": {
              "color": "#E5ECF6",
              "width": 0.5
             },
             "pattern": {
              "fillmode": "overlay",
              "size": 10,
              "solidity": 0.2
             }
            },
            "type": "barpolar"
           }
          ],
          "carpet": [
           {
            "aaxis": {
             "endlinecolor": "#2a3f5f",
             "gridcolor": "white",
             "linecolor": "white",
             "minorgridcolor": "white",
             "startlinecolor": "#2a3f5f"
            },
            "baxis": {
             "endlinecolor": "#2a3f5f",
             "gridcolor": "white",
             "linecolor": "white",
             "minorgridcolor": "white",
             "startlinecolor": "#2a3f5f"
            },
            "type": "carpet"
           }
          ],
          "choropleth": [
           {
            "colorbar": {
             "outlinewidth": 0,
             "ticks": ""
            },
            "type": "choropleth"
           }
          ],
          "contour": [
           {
            "colorbar": {
             "outlinewidth": 0,
             "ticks": ""
            },
            "colorscale": [
             [
              0,
              "#0d0887"
             ],
             [
              0.1111111111111111,
              "#46039f"
             ],
             [
              0.2222222222222222,
              "#7201a8"
             ],
             [
              0.3333333333333333,
              "#9c179e"
             ],
             [
              0.4444444444444444,
              "#bd3786"
             ],
             [
              0.5555555555555556,
              "#d8576b"
             ],
             [
              0.6666666666666666,
              "#ed7953"
             ],
             [
              0.7777777777777778,
              "#fb9f3a"
             ],
             [
              0.8888888888888888,
              "#fdca26"
             ],
             [
              1,
              "#f0f921"
             ]
            ],
            "type": "contour"
           }
          ],
          "contourcarpet": [
           {
            "colorbar": {
             "outlinewidth": 0,
             "ticks": ""
            },
            "type": "contourcarpet"
           }
          ],
          "heatmap": [
           {
            "colorbar": {
             "outlinewidth": 0,
             "ticks": ""
            },
            "colorscale": [
             [
              0,
              "#0d0887"
             ],
             [
              0.1111111111111111,
              "#46039f"
             ],
             [
              0.2222222222222222,
              "#7201a8"
             ],
             [
              0.3333333333333333,
              "#9c179e"
             ],
             [
              0.4444444444444444,
              "#bd3786"
             ],
             [
              0.5555555555555556,
              "#d8576b"
             ],
             [
              0.6666666666666666,
              "#ed7953"
             ],
             [
              0.7777777777777778,
              "#fb9f3a"
             ],
             [
              0.8888888888888888,
              "#fdca26"
             ],
             [
              1,
              "#f0f921"
             ]
            ],
            "type": "heatmap"
           }
          ],
          "histogram": [
           {
            "marker": {
             "pattern": {
              "fillmode": "overlay",
              "size": 10,
              "solidity": 0.2
             }
            },
            "type": "histogram"
           }
          ],
          "histogram2d": [
           {
            "colorbar": {
             "outlinewidth": 0,
             "ticks": ""
            },
            "colorscale": [
             [
              0,
              "#0d0887"
             ],
             [
              0.1111111111111111,
              "#46039f"
             ],
             [
              0.2222222222222222,
              "#7201a8"
             ],
             [
              0.3333333333333333,
              "#9c179e"
             ],
             [
              0.4444444444444444,
              "#bd3786"
             ],
             [
              0.5555555555555556,
              "#d8576b"
             ],
             [
              0.6666666666666666,
              "#ed7953"
             ],
             [
              0.7777777777777778,
              "#fb9f3a"
             ],
             [
              0.8888888888888888,
              "#fdca26"
             ],
             [
              1,
              "#f0f921"
             ]
            ],
            "type": "histogram2d"
           }
          ],
          "histogram2dcontour": [
           {
            "colorbar": {
             "outlinewidth": 0,
             "ticks": ""
            },
            "colorscale": [
             [
              0,
              "#0d0887"
             ],
             [
              0.1111111111111111,
              "#46039f"
             ],
             [
              0.2222222222222222,
              "#7201a8"
             ],
             [
              0.3333333333333333,
              "#9c179e"
             ],
             [
              0.4444444444444444,
              "#bd3786"
             ],
             [
              0.5555555555555556,
              "#d8576b"
             ],
             [
              0.6666666666666666,
              "#ed7953"
             ],
             [
              0.7777777777777778,
              "#fb9f3a"
             ],
             [
              0.8888888888888888,
              "#fdca26"
             ],
             [
              1,
              "#f0f921"
             ]
            ],
            "type": "histogram2dcontour"
           }
          ],
          "mesh3d": [
           {
            "colorbar": {
             "outlinewidth": 0,
             "ticks": ""
            },
            "type": "mesh3d"
           }
          ],
          "parcoords": [
           {
            "line": {
             "colorbar": {
              "outlinewidth": 0,
              "ticks": ""
             }
            },
            "type": "parcoords"
           }
          ],
          "pie": [
           {
            "automargin": true,
            "type": "pie"
           }
          ],
          "scatter": [
           {
            "fillpattern": {
             "fillmode": "overlay",
             "size": 10,
             "solidity": 0.2
            },
            "type": "scatter"
           }
          ],
          "scatter3d": [
           {
            "line": {
             "colorbar": {
              "outlinewidth": 0,
              "ticks": ""
             }
            },
            "marker": {
             "colorbar": {
              "outlinewidth": 0,
              "ticks": ""
             }
            },
            "type": "scatter3d"
           }
          ],
          "scattercarpet": [
           {
            "marker": {
             "colorbar": {
              "outlinewidth": 0,
              "ticks": ""
             }
            },
            "type": "scattercarpet"
           }
          ],
          "scattergeo": [
           {
            "marker": {
             "colorbar": {
              "outlinewidth": 0,
              "ticks": ""
             }
            },
            "type": "scattergeo"
           }
          ],
          "scattergl": [
           {
            "marker": {
             "colorbar": {
              "outlinewidth": 0,
              "ticks": ""
             }
            },
            "type": "scattergl"
           }
          ],
          "scattermap": [
           {
            "marker": {
             "colorbar": {
              "outlinewidth": 0,
              "ticks": ""
             }
            },
            "type": "scattermap"
           }
          ],
          "scattermapbox": [
           {
            "marker": {
             "colorbar": {
              "outlinewidth": 0,
              "ticks": ""
             }
            },
            "type": "scattermapbox"
           }
          ],
          "scatterpolar": [
           {
            "marker": {
             "colorbar": {
              "outlinewidth": 0,
              "ticks": ""
             }
            },
            "type": "scatterpolar"
           }
          ],
          "scatterpolargl": [
           {
            "marker": {
             "colorbar": {
              "outlinewidth": 0,
              "ticks": ""
             }
            },
            "type": "scatterpolargl"
           }
          ],
          "scatterternary": [
           {
            "marker": {
             "colorbar": {
              "outlinewidth": 0,
              "ticks": ""
             }
            },
            "type": "scatterternary"
           }
          ],
          "surface": [
           {
            "colorbar": {
             "outlinewidth": 0,
             "ticks": ""
            },
            "colorscale": [
             [
              0,
              "#0d0887"
             ],
             [
              0.1111111111111111,
              "#46039f"
             ],
             [
              0.2222222222222222,
              "#7201a8"
             ],
             [
              0.3333333333333333,
              "#9c179e"
             ],
             [
              0.4444444444444444,
              "#bd3786"
             ],
             [
              0.5555555555555556,
              "#d8576b"
             ],
             [
              0.6666666666666666,
              "#ed7953"
             ],
             [
              0.7777777777777778,
              "#fb9f3a"
             ],
             [
              0.8888888888888888,
              "#fdca26"
             ],
             [
              1,
              "#f0f921"
             ]
            ],
            "type": "surface"
           }
          ],
          "table": [
           {
            "cells": {
             "fill": {
              "color": "#EBF0F8"
             },
             "line": {
              "color": "white"
             }
            },
            "header": {
             "fill": {
              "color": "#C8D4E3"
             },
             "line": {
              "color": "white"
             }
            },
            "type": "table"
           }
          ]
         },
         "layout": {
          "annotationdefaults": {
           "arrowcolor": "#2a3f5f",
           "arrowhead": 0,
           "arrowwidth": 1
          },
          "autotypenumbers": "strict",
          "coloraxis": {
           "colorbar": {
            "outlinewidth": 0,
            "ticks": ""
           }
          },
          "colorscale": {
           "diverging": [
            [
             0,
             "#8e0152"
            ],
            [
             0.1,
             "#c51b7d"
            ],
            [
             0.2,
             "#de77ae"
            ],
            [
             0.3,
             "#f1b6da"
            ],
            [
             0.4,
             "#fde0ef"
            ],
            [
             0.5,
             "#f7f7f7"
            ],
            [
             0.6,
             "#e6f5d0"
            ],
            [
             0.7,
             "#b8e186"
            ],
            [
             0.8,
             "#7fbc41"
            ],
            [
             0.9,
             "#4d9221"
            ],
            [
             1,
             "#276419"
            ]
           ],
           "sequential": [
            [
             0,
             "#0d0887"
            ],
            [
             0.1111111111111111,
             "#46039f"
            ],
            [
             0.2222222222222222,
             "#7201a8"
            ],
            [
             0.3333333333333333,
             "#9c179e"
            ],
            [
             0.4444444444444444,
             "#bd3786"
            ],
            [
             0.5555555555555556,
             "#d8576b"
            ],
            [
             0.6666666666666666,
             "#ed7953"
            ],
            [
             0.7777777777777778,
             "#fb9f3a"
            ],
            [
             0.8888888888888888,
             "#fdca26"
            ],
            [
             1,
             "#f0f921"
            ]
           ],
           "sequentialminus": [
            [
             0,
             "#0d0887"
            ],
            [
             0.1111111111111111,
             "#46039f"
            ],
            [
             0.2222222222222222,
             "#7201a8"
            ],
            [
             0.3333333333333333,
             "#9c179e"
            ],
            [
             0.4444444444444444,
             "#bd3786"
            ],
            [
             0.5555555555555556,
             "#d8576b"
            ],
            [
             0.6666666666666666,
             "#ed7953"
            ],
            [
             0.7777777777777778,
             "#fb9f3a"
            ],
            [
             0.8888888888888888,
             "#fdca26"
            ],
            [
             1,
             "#f0f921"
            ]
           ]
          },
          "colorway": [
           "#636efa",
           "#EF553B",
           "#00cc96",
           "#ab63fa",
           "#FFA15A",
           "#19d3f3",
           "#FF6692",
           "#B6E880",
           "#FF97FF",
           "#FECB52"
          ],
          "font": {
           "color": "#2a3f5f"
          },
          "geo": {
           "bgcolor": "white",
           "lakecolor": "white",
           "landcolor": "#E5ECF6",
           "showlakes": true,
           "showland": true,
           "subunitcolor": "white"
          },
          "hoverlabel": {
           "align": "left"
          },
          "hovermode": "closest",
          "mapbox": {
           "style": "light"
          },
          "paper_bgcolor": "white",
          "plot_bgcolor": "#E5ECF6",
          "polar": {
           "angularaxis": {
            "gridcolor": "white",
            "linecolor": "white",
            "ticks": ""
           },
           "bgcolor": "#E5ECF6",
           "radialaxis": {
            "gridcolor": "white",
            "linecolor": "white",
            "ticks": ""
           }
          },
          "scene": {
           "xaxis": {
            "backgroundcolor": "#E5ECF6",
            "gridcolor": "white",
            "gridwidth": 2,
            "linecolor": "white",
            "showbackground": true,
            "ticks": "",
            "zerolinecolor": "white"
           },
           "yaxis": {
            "backgroundcolor": "#E5ECF6",
            "gridcolor": "white",
            "gridwidth": 2,
            "linecolor": "white",
            "showbackground": true,
            "ticks": "",
            "zerolinecolor": "white"
           },
           "zaxis": {
            "backgroundcolor": "#E5ECF6",
            "gridcolor": "white",
            "gridwidth": 2,
            "linecolor": "white",
            "showbackground": true,
            "ticks": "",
            "zerolinecolor": "white"
           }
          },
          "shapedefaults": {
           "line": {
            "color": "#2a3f5f"
           }
          },
          "ternary": {
           "aaxis": {
            "gridcolor": "white",
            "linecolor": "white",
            "ticks": ""
           },
           "baxis": {
            "gridcolor": "white",
            "linecolor": "white",
            "ticks": ""
           },
           "bgcolor": "#E5ECF6",
           "caxis": {
            "gridcolor": "white",
            "linecolor": "white",
            "ticks": ""
           }
          },
          "title": {
           "x": 0.05
          },
          "xaxis": {
           "automargin": true,
           "gridcolor": "white",
           "linecolor": "white",
           "ticks": "",
           "title": {
            "standoff": 15
           },
           "zerolinecolor": "white",
           "zerolinewidth": 2
          },
          "yaxis": {
           "automargin": true,
           "gridcolor": "white",
           "linecolor": "white",
           "ticks": "",
           "title": {
            "standoff": 15
           },
           "zerolinecolor": "white",
           "zerolinewidth": 2
          }
         }
        },
        "title": {
         "text": "Predicción de corporativa_mn vs valores reales"
        },
        "xaxis": {
         "anchor": "y",
         "domain": [
          0,
          1
         ],
         "title": {
          "text": "Fecha"
         }
        },
        "yaxis": {
         "anchor": "x",
         "domain": [
          0,
          1
         ],
         "title": {
          "text": "corporativa_mn"
         }
        }
       }
      }
     },
     "metadata": {},
     "output_type": "display_data"
    }
   ],
   "source": [
    "df_pred = pd.DataFrame({\n",
    "    \"Fecha\": df.loc[X_valid.index, \"fecha\"],\n",
    "    \"Real\": y_valid.values,\n",
    "    \"Predicho\": y_pred\n",
    "})\n",
    "\n",
    "# Gráfica interactiva\n",
    "fig = px.line(df_pred, x=\"Fecha\", y=[\"Real\", \"Predicho\"],\n",
    "              title=\"Predicción de corporativa_mn vs valores reales\",\n",
    "              labels={\"value\": \"corporativa_mn\", \"Fecha\": \"Fecha\", \"variable\": \"Serie\"})\n",
    "\n",
    "fig.show()"
   ]
  },
  {
   "cell_type": "code",
   "execution_count": 102,
   "id": "e06144fb",
   "metadata": {},
   "outputs": [],
   "source": [
    "base_preds = [model.predict(X_valid[features]) for model, features in bases]"
   ]
  },
  {
   "cell_type": "code",
   "execution_count": 103,
   "id": "6ed61410",
   "metadata": {},
   "outputs": [],
   "source": [
    "base_mapes = [mape(y_valid, pred) for pred in base_preds]"
   ]
  },
  {
   "cell_type": "code",
   "execution_count": 104,
   "id": "bedb408f",
   "metadata": {},
   "outputs": [
    {
     "data": {
      "text/plain": [
       "[np.float64(16.1400232419508), np.float64(0.7040018011426735)]"
      ]
     },
     "execution_count": 104,
     "metadata": {},
     "output_type": "execute_result"
    }
   ],
   "source": [
    "base_mapes"
   ]
  },
  {
   "cell_type": "code",
   "execution_count": 105,
   "id": "78536f38",
   "metadata": {},
   "outputs": [],
   "source": [
    "y_pred_test = ensemble_client.predict(X_test)"
   ]
  },
  {
   "cell_type": "code",
   "execution_count": 106,
   "id": "ca665353",
   "metadata": {},
   "outputs": [
    {
     "name": "stderr",
     "output_type": "stream",
     "text": [
      "/var/folders/97/kt6v_bd9753cp__4qp00b1h00000gr/T/ipykernel_39951/3246128320.py:2: SettingWithCopyWarning:\n",
      "\n",
      "\n",
      "A value is trying to be set on a copy of a slice from a DataFrame.\n",
      "Try using .loc[row_indexer,col_indexer] = value instead\n",
      "\n",
      "See the caveats in the documentation: https://pandas.pydata.org/pandas-docs/stable/user_guide/indexing.html#returning-a-view-versus-a-copy\n",
      "\n"
     ]
    },
    {
     "data": {
      "text/html": [
       "<div>\n",
       "<style scoped>\n",
       "    .dataframe tbody tr th:only-of-type {\n",
       "        vertical-align: middle;\n",
       "    }\n",
       "\n",
       "    .dataframe tbody tr th {\n",
       "        vertical-align: top;\n",
       "    }\n",
       "\n",
       "    .dataframe thead th {\n",
       "        text-align: right;\n",
       "    }\n",
       "</style>\n",
       "<table border=\"1\" class=\"dataframe\">\n",
       "  <thead>\n",
       "    <tr style=\"text-align: right;\">\n",
       "      <th></th>\n",
       "      <th>fecha</th>\n",
       "      <th>corporativa_mn</th>\n",
       "    </tr>\n",
       "  </thead>\n",
       "  <tbody>\n",
       "    <tr>\n",
       "      <th>184</th>\n",
       "      <td>2022-05-01</td>\n",
       "      <td>141718.468874</td>\n",
       "    </tr>\n",
       "    <tr>\n",
       "      <th>185</th>\n",
       "      <td>2022-06-01</td>\n",
       "      <td>140635.869770</td>\n",
       "    </tr>\n",
       "    <tr>\n",
       "      <th>186</th>\n",
       "      <td>2022-07-01</td>\n",
       "      <td>147484.422360</td>\n",
       "    </tr>\n",
       "    <tr>\n",
       "      <th>187</th>\n",
       "      <td>2022-08-01</td>\n",
       "      <td>95484.536286</td>\n",
       "    </tr>\n",
       "    <tr>\n",
       "      <th>188</th>\n",
       "      <td>2022-09-01</td>\n",
       "      <td>94793.993762</td>\n",
       "    </tr>\n",
       "    <tr>\n",
       "      <th>189</th>\n",
       "      <td>2022-10-01</td>\n",
       "      <td>92266.569239</td>\n",
       "    </tr>\n",
       "    <tr>\n",
       "      <th>190</th>\n",
       "      <td>2022-11-01</td>\n",
       "      <td>86263.656296</td>\n",
       "    </tr>\n",
       "    <tr>\n",
       "      <th>191</th>\n",
       "      <td>2022-12-01</td>\n",
       "      <td>85581.772848</td>\n",
       "    </tr>\n",
       "    <tr>\n",
       "      <th>192</th>\n",
       "      <td>2023-01-01</td>\n",
       "      <td>83995.389495</td>\n",
       "    </tr>\n",
       "    <tr>\n",
       "      <th>193</th>\n",
       "      <td>2023-02-01</td>\n",
       "      <td>88686.131769</td>\n",
       "    </tr>\n",
       "    <tr>\n",
       "      <th>194</th>\n",
       "      <td>2023-03-01</td>\n",
       "      <td>86988.954021</td>\n",
       "    </tr>\n",
       "    <tr>\n",
       "      <th>195</th>\n",
       "      <td>2023-04-01</td>\n",
       "      <td>88660.697405</td>\n",
       "    </tr>\n",
       "    <tr>\n",
       "      <th>196</th>\n",
       "      <td>2023-05-01</td>\n",
       "      <td>88203.385586</td>\n",
       "    </tr>\n",
       "    <tr>\n",
       "      <th>197</th>\n",
       "      <td>2023-06-01</td>\n",
       "      <td>87724.328350</td>\n",
       "    </tr>\n",
       "    <tr>\n",
       "      <th>198</th>\n",
       "      <td>2023-07-01</td>\n",
       "      <td>88675.127997</td>\n",
       "    </tr>\n",
       "    <tr>\n",
       "      <th>199</th>\n",
       "      <td>2023-08-01</td>\n",
       "      <td>81360.570612</td>\n",
       "    </tr>\n",
       "    <tr>\n",
       "      <th>200</th>\n",
       "      <td>2023-09-01</td>\n",
       "      <td>85938.679482</td>\n",
       "    </tr>\n",
       "    <tr>\n",
       "      <th>201</th>\n",
       "      <td>2023-10-01</td>\n",
       "      <td>85881.443655</td>\n",
       "    </tr>\n",
       "    <tr>\n",
       "      <th>202</th>\n",
       "      <td>2023-11-01</td>\n",
       "      <td>85704.636842</td>\n",
       "    </tr>\n",
       "    <tr>\n",
       "      <th>203</th>\n",
       "      <td>2023-12-01</td>\n",
       "      <td>85773.154716</td>\n",
       "    </tr>\n",
       "    <tr>\n",
       "      <th>204</th>\n",
       "      <td>2024-01-01</td>\n",
       "      <td>85682.685418</td>\n",
       "    </tr>\n",
       "    <tr>\n",
       "      <th>205</th>\n",
       "      <td>2024-02-01</td>\n",
       "      <td>91747.713756</td>\n",
       "    </tr>\n",
       "    <tr>\n",
       "      <th>206</th>\n",
       "      <td>2024-03-01</td>\n",
       "      <td>92020.953469</td>\n",
       "    </tr>\n",
       "    <tr>\n",
       "      <th>207</th>\n",
       "      <td>2024-04-01</td>\n",
       "      <td>91777.626360</td>\n",
       "    </tr>\n",
       "  </tbody>\n",
       "</table>\n",
       "</div>"
      ],
      "text/plain": [
       "         fecha  corporativa_mn\n",
       "184 2022-05-01   141718.468874\n",
       "185 2022-06-01   140635.869770\n",
       "186 2022-07-01   147484.422360\n",
       "187 2022-08-01    95484.536286\n",
       "188 2022-09-01    94793.993762\n",
       "189 2022-10-01    92266.569239\n",
       "190 2022-11-01    86263.656296\n",
       "191 2022-12-01    85581.772848\n",
       "192 2023-01-01    83995.389495\n",
       "193 2023-02-01    88686.131769\n",
       "194 2023-03-01    86988.954021\n",
       "195 2023-04-01    88660.697405\n",
       "196 2023-05-01    88203.385586\n",
       "197 2023-06-01    87724.328350\n",
       "198 2023-07-01    88675.127997\n",
       "199 2023-08-01    81360.570612\n",
       "200 2023-09-01    85938.679482\n",
       "201 2023-10-01    85881.443655\n",
       "202 2023-11-01    85704.636842\n",
       "203 2023-12-01    85773.154716\n",
       "204 2024-01-01    85682.685418\n",
       "205 2024-02-01    91747.713756\n",
       "206 2024-03-01    92020.953469\n",
       "207 2024-04-01    91777.626360"
      ]
     },
     "execution_count": 106,
     "metadata": {},
     "output_type": "execute_result"
    }
   ],
   "source": [
    "results = X_test[['fecha']]\n",
    "results['corporativa_mn'] = y_pred_test\n",
    "results"
   ]
  },
  {
   "cell_type": "code",
   "execution_count": 107,
   "id": "0a64dfc2",
   "metadata": {},
   "outputs": [],
   "source": [
    "results.to_csv('/Users/MI31539/Desktop/data_olympics/csv/predicciones_back_to_the_forecast.csv', index=False)"
   ]
  }
 ],
 "metadata": {
  "kernelspec": {
   "display_name": "data_olympics",
   "language": "python",
   "name": "python3"
  },
  "language_info": {
   "codemirror_mode": {
    "name": "ipython",
    "version": 3
   },
   "file_extension": ".py",
   "mimetype": "text/x-python",
   "name": "python",
   "nbconvert_exporter": "python",
   "pygments_lexer": "ipython3",
   "version": "3.11.13"
  }
 },
 "nbformat": 4,
 "nbformat_minor": 5
}
