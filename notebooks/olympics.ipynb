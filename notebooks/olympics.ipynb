{
 "cells": [
  {
   "cell_type": "markdown",
   "id": "e1cf1a76",
   "metadata": {},
   "source": [
    "# Carga de librerías"
   ]
  },
  {
   "cell_type": "code",
   "execution_count": 1,
   "id": "79eb285f",
   "metadata": {},
   "outputs": [],
   "source": [
    "from datetime import datetime\n",
    "import pandas as pd\n",
    "import gc"
   ]
  },
  {
   "cell_type": "code",
   "execution_count": 2,
   "id": "6bea29e6",
   "metadata": {},
   "outputs": [],
   "source": [
    "from wfm.google_service.client import GoogleClient\n",
    "from wfm.utils.drive_structure import main as drive_structure\n",
    "from wfm.modelling.dataset import WFMDataset\n",
    "import wfm.modelling.outlier_detection as OutlierDetection"
   ]
  },
  {
   "cell_type": "markdown",
   "id": "f024da1b",
   "metadata": {},
   "source": [
    "# Creación estructura drive"
   ]
  },
  {
   "cell_type": "markdown",
   "id": "d7e7bd74",
   "metadata": {},
   "source": [
    "drive_structure()"
   ]
  },
  {
   "cell_type": "markdown",
   "id": "fa4ddffc",
   "metadata": {},
   "source": [
    "# Leer base de datos"
   ]
  },
  {
   "cell_type": "code",
   "execution_count": null,
   "id": "41cfa5fd",
   "metadata": {},
   "outputs": [],
   "source": [
    "df = pd.read_excel(\n",
    "    io='/Users/MI31539/Documents/wfm/Data - Data Olympics.xlsx',\n",
    "    sheet_name='DATOS'\n",
    ")"
   ]
  },
  {
   "cell_type": "code",
   "execution_count": 4,
   "id": "8c6ad573",
   "metadata": {},
   "outputs": [
    {
     "data": {
      "text/html": [
       "<div>\n",
       "<style scoped>\n",
       "    .dataframe tbody tr th:only-of-type {\n",
       "        vertical-align: middle;\n",
       "    }\n",
       "\n",
       "    .dataframe tbody tr th {\n",
       "        vertical-align: top;\n",
       "    }\n",
       "\n",
       "    .dataframe thead th {\n",
       "        text-align: right;\n",
       "    }\n",
       "</style>\n",
       "<table border=\"1\" class=\"dataframe\">\n",
       "  <thead>\n",
       "    <tr style=\"text-align: right;\">\n",
       "      <th></th>\n",
       "      <th>fecha</th>\n",
       "      <th>cetes_12m</th>\n",
       "      <th>cetes_1m</th>\n",
       "      <th>cetes_3m</th>\n",
       "      <th>cetes_6m</th>\n",
       "      <th>exchange_rate_usd</th>\n",
       "      <th>exportaciones_no_petroleras</th>\n",
       "      <th>imss</th>\n",
       "      <th>inpc</th>\n",
       "      <th>official_interest_rate_usa</th>\n",
       "      <th>...</th>\n",
       "      <th>tasa_fondeo_1d</th>\n",
       "      <th>treasury_10y</th>\n",
       "      <th>treasury_1m</th>\n",
       "      <th>treasury_1y</th>\n",
       "      <th>treasury_3m</th>\n",
       "      <th>treasury_3y</th>\n",
       "      <th>treasury_5y</th>\n",
       "      <th>treasury_6m</th>\n",
       "      <th>vix</th>\n",
       "      <th>vix_bmv</th>\n",
       "    </tr>\n",
       "  </thead>\n",
       "  <tbody>\n",
       "    <tr>\n",
       "      <th>0</th>\n",
       "      <td>2007-01-01</td>\n",
       "      <td>5.998714</td>\n",
       "      <td>5.270554</td>\n",
       "      <td>7.619891</td>\n",
       "      <td>9.538785</td>\n",
       "      <td>16.626715</td>\n",
       "      <td>65523.200303</td>\n",
       "      <td>1.492044e+07</td>\n",
       "      <td>57.490374</td>\n",
       "      <td>1.385472</td>\n",
       "      <td>...</td>\n",
       "      <td>9.112490</td>\n",
       "      <td>4.601301</td>\n",
       "      <td>4.511093</td>\n",
       "      <td>1.371252</td>\n",
       "      <td>3.797369</td>\n",
       "      <td>1.081369</td>\n",
       "      <td>6.241602</td>\n",
       "      <td>1.704889</td>\n",
       "      <td>7.659628</td>\n",
       "      <td>21.931550</td>\n",
       "    </tr>\n",
       "    <tr>\n",
       "      <th>1</th>\n",
       "      <td>2007-02-01</td>\n",
       "      <td>5.998714</td>\n",
       "      <td>5.270554</td>\n",
       "      <td>7.619891</td>\n",
       "      <td>9.538785</td>\n",
       "      <td>16.626715</td>\n",
       "      <td>65523.200303</td>\n",
       "      <td>1.492044e+07</td>\n",
       "      <td>57.490374</td>\n",
       "      <td>1.385472</td>\n",
       "      <td>...</td>\n",
       "      <td>9.820666</td>\n",
       "      <td>4.601301</td>\n",
       "      <td>4.622545</td>\n",
       "      <td>1.371252</td>\n",
       "      <td>3.797369</td>\n",
       "      <td>1.081369</td>\n",
       "      <td>6.241602</td>\n",
       "      <td>1.704889</td>\n",
       "      <td>7.659628</td>\n",
       "      <td>20.456388</td>\n",
       "    </tr>\n",
       "    <tr>\n",
       "      <th>2</th>\n",
       "      <td>2007-03-01</td>\n",
       "      <td>7.483663</td>\n",
       "      <td>5.270554</td>\n",
       "      <td>7.619891</td>\n",
       "      <td>9.538785</td>\n",
       "      <td>16.626715</td>\n",
       "      <td>65523.200303</td>\n",
       "      <td>1.492044e+07</td>\n",
       "      <td>57.490374</td>\n",
       "      <td>1.385472</td>\n",
       "      <td>...</td>\n",
       "      <td>8.722971</td>\n",
       "      <td>4.601301</td>\n",
       "      <td>4.694684</td>\n",
       "      <td>1.371252</td>\n",
       "      <td>4.805535</td>\n",
       "      <td>1.081369</td>\n",
       "      <td>6.241602</td>\n",
       "      <td>1.704889</td>\n",
       "      <td>12.211318</td>\n",
       "      <td>22.318382</td>\n",
       "    </tr>\n",
       "    <tr>\n",
       "      <th>3</th>\n",
       "      <td>2007-04-01</td>\n",
       "      <td>8.106428</td>\n",
       "      <td>5.270554</td>\n",
       "      <td>7.619891</td>\n",
       "      <td>9.538785</td>\n",
       "      <td>16.626715</td>\n",
       "      <td>65523.200303</td>\n",
       "      <td>1.492044e+07</td>\n",
       "      <td>57.490374</td>\n",
       "      <td>1.385472</td>\n",
       "      <td>...</td>\n",
       "      <td>7.762946</td>\n",
       "      <td>4.601301</td>\n",
       "      <td>5.155397</td>\n",
       "      <td>1.371252</td>\n",
       "      <td>4.917340</td>\n",
       "      <td>1.081369</td>\n",
       "      <td>6.241602</td>\n",
       "      <td>1.704889</td>\n",
       "      <td>14.623812</td>\n",
       "      <td>22.722563</td>\n",
       "    </tr>\n",
       "    <tr>\n",
       "      <th>4</th>\n",
       "      <td>2007-05-01</td>\n",
       "      <td>8.232189</td>\n",
       "      <td>5.270554</td>\n",
       "      <td>7.619891</td>\n",
       "      <td>9.538785</td>\n",
       "      <td>16.626715</td>\n",
       "      <td>65523.200303</td>\n",
       "      <td>1.492044e+07</td>\n",
       "      <td>57.490374</td>\n",
       "      <td>1.385472</td>\n",
       "      <td>...</td>\n",
       "      <td>8.048050</td>\n",
       "      <td>4.601301</td>\n",
       "      <td>5.076232</td>\n",
       "      <td>1.371252</td>\n",
       "      <td>4.885224</td>\n",
       "      <td>1.081369</td>\n",
       "      <td>6.241602</td>\n",
       "      <td>1.704889</td>\n",
       "      <td>14.856131</td>\n",
       "      <td>22.418558</td>\n",
       "    </tr>\n",
       "  </tbody>\n",
       "</table>\n",
       "<p>5 rows × 27 columns</p>\n",
       "</div>"
      ],
      "text/plain": [
       "       fecha  cetes_12m  cetes_1m  cetes_3m  cetes_6m  exchange_rate_usd  \\\n",
       "0 2007-01-01   5.998714  5.270554  7.619891  9.538785          16.626715   \n",
       "1 2007-02-01   5.998714  5.270554  7.619891  9.538785          16.626715   \n",
       "2 2007-03-01   7.483663  5.270554  7.619891  9.538785          16.626715   \n",
       "3 2007-04-01   8.106428  5.270554  7.619891  9.538785          16.626715   \n",
       "4 2007-05-01   8.232189  5.270554  7.619891  9.538785          16.626715   \n",
       "\n",
       "   exportaciones_no_petroleras          imss       inpc  \\\n",
       "0                 65523.200303  1.492044e+07  57.490374   \n",
       "1                 65523.200303  1.492044e+07  57.490374   \n",
       "2                 65523.200303  1.492044e+07  57.490374   \n",
       "3                 65523.200303  1.492044e+07  57.490374   \n",
       "4                 65523.200303  1.492044e+07  57.490374   \n",
       "\n",
       "   official_interest_rate_usa  ...  tasa_fondeo_1d  treasury_10y  treasury_1m  \\\n",
       "0                    1.385472  ...        9.112490      4.601301     4.511093   \n",
       "1                    1.385472  ...        9.820666      4.601301     4.622545   \n",
       "2                    1.385472  ...        8.722971      4.601301     4.694684   \n",
       "3                    1.385472  ...        7.762946      4.601301     5.155397   \n",
       "4                    1.385472  ...        8.048050      4.601301     5.076232   \n",
       "\n",
       "   treasury_1y  treasury_3m  treasury_3y  treasury_5y  treasury_6m        vix  \\\n",
       "0     1.371252     3.797369     1.081369     6.241602     1.704889   7.659628   \n",
       "1     1.371252     3.797369     1.081369     6.241602     1.704889   7.659628   \n",
       "2     1.371252     4.805535     1.081369     6.241602     1.704889  12.211318   \n",
       "3     1.371252     4.917340     1.081369     6.241602     1.704889  14.623812   \n",
       "4     1.371252     4.885224     1.081369     6.241602     1.704889  14.856131   \n",
       "\n",
       "     vix_bmv  \n",
       "0  21.931550  \n",
       "1  20.456388  \n",
       "2  22.318382  \n",
       "3  22.722563  \n",
       "4  22.418558  \n",
       "\n",
       "[5 rows x 27 columns]"
      ]
     },
     "execution_count": 4,
     "metadata": {},
     "output_type": "execute_result"
    }
   ],
   "source": [
    "df.head()"
   ]
  },
  {
   "cell_type": "code",
   "execution_count": 5,
   "id": "d673a198",
   "metadata": {},
   "outputs": [
    {
     "data": {
      "text/plain": [
       "Index(['fecha', 'cetes_12m', 'cetes_1m', 'cetes_3m', 'cetes_6m',\n",
       "       'exchange_rate_usd', 'exportaciones_no_petroleras', 'imss', 'inpc',\n",
       "       'official_interest_rate_usa', 'pib', 's&p500', 'sovereign_10y',\n",
       "       'sovereign_3y', 'sovereign_5y', 'stock_market', 'tasa_desempleo',\n",
       "       'tasa_fondeo_1d', 'treasury_10y', 'treasury_1m', 'treasury_1y',\n",
       "       'treasury_3m', 'treasury_3y', 'treasury_5y', 'treasury_6m', 'vix',\n",
       "       'vix_bmv'],\n",
       "      dtype='object')"
      ]
     },
     "execution_count": 5,
     "metadata": {},
     "output_type": "execute_result"
    }
   ],
   "source": [
    "df.columns"
   ]
  },
  {
   "cell_type": "code",
   "execution_count": 6,
   "id": "bc53fc20",
   "metadata": {},
   "outputs": [
    {
     "data": {
      "text/plain": [
       "(184, 27)"
      ]
     },
     "execution_count": 6,
     "metadata": {},
     "output_type": "execute_result"
    }
   ],
   "source": [
    "df.shape"
   ]
  },
  {
   "cell_type": "markdown",
   "id": "2fec62a2",
   "metadata": {},
   "source": [
    "# Outliers"
   ]
  },
  {
   "cell_type": "code",
   "execution_count": 7,
   "id": "d3e898b0",
   "metadata": {},
   "outputs": [],
   "source": [
    "detection_factories = {\n",
    "    col: OutlierDetection.MADFactory()\n",
    "    for col in df.columns[1:]\n",
    "}\n",
    "detection_client = OutlierDetection.OutlierDetectionClient(column_factory_map=detection_factories, remainder='passthrough')\n",
    "detection_client.fit(df)"
   ]
  },
  {
   "cell_type": "code",
   "execution_count": 8,
   "id": "f08741cd",
   "metadata": {},
   "outputs": [
    {
     "data": {
      "text/plain": [
       "cetes_12m                       0\n",
       "cetes_1m                        0\n",
       "cetes_3m                        0\n",
       "cetes_6m                        0\n",
       "exchange_rate_usd               0\n",
       "exportaciones_no_petroleras     0\n",
       "imss                            0\n",
       "inpc                            0\n",
       "official_interest_rate_usa      0\n",
       "pib                             0\n",
       "s&p500                          0\n",
       "sovereign_10y                   0\n",
       "sovereign_3y                    0\n",
       "sovereign_5y                    0\n",
       "stock_market                    0\n",
       "tasa_desempleo                  0\n",
       "tasa_fondeo_1d                  0\n",
       "treasury_10y                    0\n",
       "treasury_1m                     0\n",
       "treasury_1y                     0\n",
       "treasury_3m                     5\n",
       "treasury_3y                     5\n",
       "treasury_5y                    15\n",
       "treasury_6m                     0\n",
       "vix                             0\n",
       "vix_bmv                         0\n",
       "dtype: int64"
      ]
     },
     "execution_count": 8,
     "metadata": {},
     "output_type": "execute_result"
    }
   ],
   "source": [
    "train_outliers = detection_client.detect(df)\n",
    "train_outliers.sum()"
   ]
  }
 ],
 "metadata": {
  "kernelspec": {
   "display_name": "WFM",
   "language": "python",
   "name": "python3"
  },
  "language_info": {
   "codemirror_mode": {
    "name": "ipython",
    "version": 3
   },
   "file_extension": ".py",
   "mimetype": "text/x-python",
   "name": "python",
   "nbconvert_exporter": "python",
   "pygments_lexer": "ipython3",
   "version": "3.11.13"
  }
 },
 "nbformat": 4,
 "nbformat_minor": 5
}
