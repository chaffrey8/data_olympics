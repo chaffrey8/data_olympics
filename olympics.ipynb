{
 "cells": [
  {
   "cell_type": "markdown",
   "id": "e1cf1a76",
   "metadata": {},
   "source": [
    "# Carga de librerías"
   ]
  },
  {
   "cell_type": "code",
   "execution_count": 1,
   "id": "79eb285f",
   "metadata": {},
   "outputs": [],
   "source": [
    "from datetime import datetime\n",
    "import pandas as pd\n",
    "import gc"
   ]
  },
  {
   "cell_type": "code",
   "execution_count": 2,
   "id": "6bea29e6",
   "metadata": {},
   "outputs": [
    {
     "ename": "ModuleNotFoundError",
     "evalue": "No module named 'workalendar'",
     "output_type": "error",
     "traceback": [
      "\u001b[31m---------------------------------------------------------------------------\u001b[39m",
      "\u001b[31mModuleNotFoundError\u001b[39m                       Traceback (most recent call last)",
      "\u001b[36mCell\u001b[39m\u001b[36m \u001b[39m\u001b[32mIn[2]\u001b[39m\u001b[32m, line 2\u001b[39m\n\u001b[32m      1\u001b[39m \u001b[38;5;28;01mfrom\u001b[39;00m\u001b[38;5;250m \u001b[39m\u001b[34;01molympics\u001b[39;00m\u001b[34;01m.\u001b[39;00m\u001b[34;01mgoogle_service\u001b[39;00m\u001b[34;01m.\u001b[39;00m\u001b[34;01mclient\u001b[39;00m\u001b[38;5;250m \u001b[39m\u001b[38;5;28;01mimport\u001b[39;00m GoogleClient\n\u001b[32m----> \u001b[39m\u001b[32m2\u001b[39m \u001b[38;5;28;01mfrom\u001b[39;00m\u001b[38;5;250m \u001b[39m\u001b[34;01molympics\u001b[39;00m\u001b[34;01m.\u001b[39;00m\u001b[34;01mmodelling\u001b[39;00m\u001b[34;01m.\u001b[39;00m\u001b[34;01mdataset\u001b[39;00m\u001b[38;5;250m \u001b[39m\u001b[38;5;28;01mimport\u001b[39;00m WFMDataset\n\u001b[32m      3\u001b[39m \u001b[38;5;28;01mimport\u001b[39;00m\u001b[38;5;250m \u001b[39m\u001b[34;01molympics\u001b[39;00m\u001b[34;01m.\u001b[39;00m\u001b[34;01mmodelling\u001b[39;00m\u001b[34;01m.\u001b[39;00m\u001b[34;01moutlier_detection\u001b[39;00m\u001b[38;5;250m \u001b[39m\u001b[38;5;28;01mas\u001b[39;00m\u001b[38;5;250m \u001b[39m\u001b[34;01mOutlierDetection\u001b[39;00m\n",
      "\u001b[36mFile \u001b[39m\u001b[32m~/Desktop/data_olympics/olympics/modelling/dataset.py:4\u001b[39m\n\u001b[32m      2\u001b[39m \u001b[38;5;28;01mimport\u001b[39;00m\u001b[38;5;250m \u001b[39m\u001b[34;01mpandas\u001b[39;00m\u001b[38;5;250m \u001b[39m\u001b[38;5;28;01mas\u001b[39;00m\u001b[38;5;250m \u001b[39m\u001b[34;01mpd\u001b[39;00m\n\u001b[32m      3\u001b[39m \u001b[38;5;28;01mfrom\u001b[39;00m\u001b[38;5;250m \u001b[39m\u001b[34;01mpathlib\u001b[39;00m\u001b[38;5;250m \u001b[39m\u001b[38;5;28;01mimport\u001b[39;00m Path\n\u001b[32m----> \u001b[39m\u001b[32m4\u001b[39m \u001b[38;5;28;01mfrom\u001b[39;00m\u001b[38;5;250m \u001b[39m\u001b[34;01mworkalendar\u001b[39;00m\u001b[34;01m.\u001b[39;00m\u001b[34;01mamerica\u001b[39;00m\u001b[38;5;250m \u001b[39m\u001b[38;5;28;01mimport\u001b[39;00m Mexico\n\u001b[32m      6\u001b[39m \u001b[38;5;28;01mfrom\u001b[39;00m\u001b[38;5;250m \u001b[39m\u001b[34;01m.\u001b[39;00m\u001b[34;01m.\u001b[39;00m\u001b[34;01mgoogle_service\u001b[39;00m\u001b[34;01m.\u001b[39;00m\u001b[34;01mclient\u001b[39;00m\u001b[38;5;250m \u001b[39m\u001b[38;5;28;01mimport\u001b[39;00m GoogleClient\n\u001b[32m      8\u001b[39m \u001b[38;5;28;01mclass\u001b[39;00m\u001b[38;5;250m \u001b[39m\u001b[34;01mWFMDataset\u001b[39;00m:\n",
      "\u001b[31mModuleNotFoundError\u001b[39m: No module named 'workalendar'"
     ]
    }
   ],
   "source": [
    "from olympics.google_service.client import GoogleClient\n",
    "from olympics.modelling.dataset import WFMDataset\n",
    "import olympics.modelling.outlier_detection as OutlierDetection"
   ]
  },
  {
   "cell_type": "markdown",
   "id": "f024da1b",
   "metadata": {},
   "source": [
    "# Creación estructura drive"
   ]
  },
  {
   "cell_type": "markdown",
   "id": "d7e7bd74",
   "metadata": {},
   "source": [
    "drive_structure()"
   ]
  },
  {
   "cell_type": "markdown",
   "id": "fa4ddffc",
   "metadata": {},
   "source": [
    "# Leer base de datos"
   ]
  },
  {
   "cell_type": "code",
   "execution_count": null,
   "id": "41cfa5fd",
   "metadata": {},
   "outputs": [],
   "source": [
    "df = pd.read_excel(\n",
    "    io='/Users/MI31539/Documents/wfm/Data - Data Olympics.xlsx',\n",
    "    sheet_name='DATOS'\n",
    ")"
   ]
  },
  {
   "cell_type": "code",
   "execution_count": null,
   "id": "8c6ad573",
   "metadata": {},
   "outputs": [],
   "source": [
    "df.head()"
   ]
  },
  {
   "cell_type": "code",
   "execution_count": null,
   "id": "d673a198",
   "metadata": {},
   "outputs": [],
   "source": [
    "df.columns"
   ]
  },
  {
   "cell_type": "code",
   "execution_count": null,
   "id": "bc53fc20",
   "metadata": {},
   "outputs": [],
   "source": [
    "df.shape"
   ]
  },
  {
   "cell_type": "markdown",
   "id": "2fec62a2",
   "metadata": {},
   "source": [
    "# Outliers"
   ]
  },
  {
   "cell_type": "code",
   "execution_count": null,
   "id": "d3e898b0",
   "metadata": {},
   "outputs": [],
   "source": [
    "detection_factories = {\n",
    "    col: OutlierDetection.MADFactory()\n",
    "    for col in df.columns[1:]\n",
    "}\n",
    "detection_client = OutlierDetection.OutlierDetectionClient(column_factory_map=detection_factories, remainder='passthrough')\n",
    "detection_client.fit(df)"
   ]
  },
  {
   "cell_type": "code",
   "execution_count": null,
   "id": "f08741cd",
   "metadata": {},
   "outputs": [],
   "source": [
    "train_outliers = detection_client.detect(df)\n",
    "train_outliers.sum()"
   ]
  }
 ],
 "metadata": {
  "kernelspec": {
   "display_name": "data_olympics",
   "language": "python",
   "name": "python3"
  },
  "language_info": {
   "codemirror_mode": {
    "name": "ipython",
    "version": 3
   },
   "file_extension": ".py",
   "mimetype": "text/x-python",
   "name": "python",
   "nbconvert_exporter": "python",
   "pygments_lexer": "ipython3",
   "version": "3.11.13"
  }
 },
 "nbformat": 4,
 "nbformat_minor": 5
}
